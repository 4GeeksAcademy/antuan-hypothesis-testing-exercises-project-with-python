{
 "cells": [
  {
   "cell_type": "markdown",
   "id": "d9d036c6",
   "metadata": {},
   "source": [
    "# Problemas de prueba de hipótesis"
   ]
  },
  {
   "cell_type": "markdown",
   "id": "d157c4db",
   "metadata": {},
   "source": [
    "## Ejercicio 1\n",
    "\n",
    "Usted es un nutricionista que investiga dos tipos diferentes de dietas para ver si existe una diferencia significativa en la pérdida de peso después de un mes. Eliges dos grupos aleatorios de personas; un grupo sigue la primera dieta y el otro sigue la segunda. Al final del mes, se registra la pérdida de peso (en kg) de cada persona:\n",
    "\n",
    "| Diet 1 | Diet 2 |\n",
    "|:-------|:-------|\n",
    "| 2.0 | 3.0 |\n",
    "| 2.5 | 3.2 |\n",
    "| 3.0 | 3.1 |\n",
    "| 2.8 | 2.9 |\n",
    "| 2.3 | 2.8 |\n",
    "| 2.7 | 3.0 |\n",
    "| 2.5 | 3.2 |\n",
    "\n",
    "Con estos datos se busca responder a la siguiente pregunta: ¿Existe una diferencia significativa en la pérdida de peso promedio entre las personas que siguieron la primera dieta y las que siguieron la segunda dieta?\n",
    "\n",
    "Para sacar conclusiones, siga los siguientes puntos:\n",
    "\n",
    "-Enunciar la hipótesis: hipótesis nula y alternativa.\n",
    "-Realizar la prueba para comprobar la hipótesis. Puede utilizar la prueba t de Student.\n",
    "-Analizar las conclusiones."
   ]
  },
  {
   "cell_type": "code",
   "execution_count": null,
   "id": "8e0f3cf0",
   "metadata": {},
   "outputs": [],
   "source": [
    "# TODO\n",
    "\n",
    "#Paso 1 \n",
    "# Utilizamos la prueba t de estudent Cuando el tamaño de muestra es pequeño y no se conoce la varianza poblacional.\n",
    "# $\\neq$ \"no tiene el mismo valor \"\n",
    "#hipotesis nula  = no hay ninguna diferencia entre las personas que siguieron una primera dieta y las que se siguieron la segunda.\n",
    "# hipotesis alternativa = hay diferencia entre las personas que siguieron la dieta 1 a la dieta 2 \n",
    "\n",
    "# Nivel de significacion estandar  : 𝛼 de 5%\n",
    "\n",
    "\n"
   ]
  },
  {
   "cell_type": "code",
   "execution_count": null,
   "id": "dfa8e1fe",
   "metadata": {},
   "outputs": [
    {
     "name": "stdout",
     "output_type": "stream",
     "text": [
      "-3.5383407969933938\n",
      "Concideramos que la dieta numero 2 es mas efectiva que la dieta1 0.004083270191713912\n"
     ]
    }
   ],
   "source": [
    "#Paso 2 \n",
    "import scipy.stats as stats\n",
    "\n",
    "dieta_1 = [2.0, 2.5, 3.0, 2.8, 2.3, 2.7, 2.5]\n",
    "dieta_2 = [3.0, 3.2, 3.1, 2.9, 2.8, 3.0, 3.2]\n",
    "\n",
    "#  t_value me calcula que tan grande es la diferencia que hay  entre los datos que estoy utilizando\n",
    "#  p_value se puede sdecir que es como el porcentaje de suerte que se observa para saber si el resultado que obtuvimos en real o de chiripa!! \n",
    "\n",
    "\n",
    "t_value, p_value = stats.ttest_ind(dieta_1, dieta_2)\n",
    "print(f\"Hay una diferencia de {t_value} de la dieta 1 con la dieta 2\")\n",
    "print(f\"Concideramos que la dieta numero 2 es mas efectiva que la dieta1 debido a que la probabiliad de suerte que es {p_value} lo que se concidera baja y podemos acepra que la dieta 2 es mejor\")\n",
    "\n",
    "\n"
   ]
  },
  {
   "cell_type": "markdown",
   "id": "f432e18e",
   "metadata": {},
   "source": [
    "## ANOVA\n",
    "\n",
    "**ANOVA** (*Analysis of Variance - Análisis de variación*) Es una técnica estadística utilizada para comparar las medidas de dos o más grupos. La idea detrás de ANOVA es descomponer la variabilidad total de los datos en dos componentes: variabilidad entre grupos y variabilidad dentro de los grupos:\n",
    "\n",
    "- **Variabilidad entre grupos**: Esta variabilidad se refiere a las diferencias entre las medias del grupo. Si esta variabilidad es considerablemente mayor que la variabilidad dentro del grupo, podría ser una indicación de que al menos una de las medias del grupo es diferente.\n",
    "- **Variabilidad dentro del grupo**: Esta variabilidad se refiere a la dispersión de los datos dentro de cada grupo. Si todos los grupos tienen una variabilidad similar, entonces cualquier diferencia notable en las medias de los grupos podría considerarse significativa.\n",
    "\n",
    "Las hipótesis en ANOVA suelen incluir:\n",
    "\n",
    "- **Hipótesis nula** ($H₀$): Las medias de todos los grupos son iguales.\n",
    "- **Hipótesis alternativa** ($H₁$): Al menos una de las medias del grupo es diferente.\n",
    "\n",
    "Si el resultado de la prueba ANOVA es significativo (por ejemplo, un valor p inferior a un umbral como 0,05), esto sugiere que al menos la media de un grupo es diferente."
   ]
  },
  {
   "cell_type": "code",
   "execution_count": null,
   "id": "8328d4e8",
   "metadata": {},
   "outputs": [
    {
     "name": "stdout",
     "output_type": "stream",
     "text": [
      "Hay un diferencia de 133.22803738317756 en alguna parte de mi tabla de datos\n",
      "Debido que a la probabilidad de suerte es 1.2080079982169507e-18 que es baja , nos dice que hay una diferencia \n"
     ]
    }
   ],
   "source": [
    "# Anova me ayuda cuando quiero comparar mas datos ya que si no el resultado que me mide la suerte se me dispararia , ya que al tener mas datos aumenta la probabilidaqd de suerte. \n",
    "#ojo,pero solo dice cual es diferente, no cual es mejor, para eso se necesita otro metodo. \n",
    "\n",
    "# ejemplo para varias dietas: \n",
    "# 𝛼 de 5%\n",
    "\n",
    "import scipy.stats as stats\n",
    "\n",
    "dieta_1 = [2.0, 2.5, 3.0, 2.8, 2.3, 2.7, 2.5]\n",
    "dieta_2 = [3.0, 3.2, 3.1, 2.9, 2.8, 3.0, 3.2]\n",
    "dieta_3 = [2.1, 2.4, 2.6, 2.2, 2.0, 2.5, 2.3]\n",
    "dieta_4 = [4.5, 4.1, 4.3, 3.9, 4.0, 4.2, 4.4]\n",
    "dieta_5 = [1.5, 1.8, 1.3, 1.6, 1.4, 1.7, 1.5]\n",
    "\n",
    "f_stat, p_value = stats.f_oneway(dieta_1,dieta_2,dieta_3,dieta_4,dieta_5)\n",
    "\n",
    "print(f\"Hay un diferencia alta de  {f_stat} entre las dietas\")\n",
    "print(f\"Debido que a la probabilidad de suerte es {p_value} muy baja ya que es inferior al 5% y podemos concluir de que todas las dietas no son iguales \")\n",
    " \n",
    "\n"
   ]
  },
  {
   "cell_type": "markdown",
   "id": "fc5f3721",
   "metadata": {},
   "source": [
    "## Ejercicio 2\n",
    "\n",
    "Un agricultor decide probar tres tipos diferentes de fertilizantes para determinar si alguno es superior en términos de producción de maíz. El agricultor planta maíz en 15 parcelas idénticas y utiliza los tres fertilizantes (5 parcelas para cada tipo). Al final de la temporada mide el rendimiento de maíz (en kg) de cada parcela, con el siguiente resultado:\n",
    "\n",
    "| Fertilizante 1 | Fertilizante 2 | Fertilizante 3 |\n",
    "|:-------------|:-------------|:-------------|\n",
    "| 20 | 22 | 24 |\n",
    "| 21 | 21 | 23 |\n",
    "| 20 | 23 | 22 |\n",
    "| 19 | 22 | 23 |\n",
    "| 20 | 21 | 24 |\n",
    "\n",
    "Con estos datos busca responder la siguiente pregunta: ¿Existe una diferencia significativa en el rendimiento promedio del maíz entre los tres tipos de fertilizantes?\n",
    "\n",
    "Para ayudarte, sigue los siguientes puntos:\n",
    "\n",
    "-Enunciar la hipótesis: hipótesis nula y alternativa.\n",
    "-Realizar la prueba ANOVA.\n",
    "-Analizar las conclusiones.\n",
    "-Si un fertilizante es mejor que otro, ¿cómo podemos saberlo?"
   ]
  },
  {
   "cell_type": "code",
   "execution_count": 9,
   "id": "eecad0ca",
   "metadata": {},
   "outputs": [
    {
     "name": "stdout",
     "output_type": "stream",
     "text": [
      "Hay una diferencia considerable del efecto de un tipo de fertilizante en el maíz 20.31578947368421\n",
      "Teniendo encuenta el resultado de 0.000140478247931904 podemos asumir la hipotesis alternativa por lo cual se confirma que hay un fertilizante que tiene un mejor efecto\n"
     ]
    }
   ],
   "source": [
    "# TODO\n",
    "\n",
    "fertilizante_1 = [20, 21, 20, 19, 20]\n",
    "fertilizante_2 = [22, 21, 23, 22, 21]\n",
    "fertilizante_3 = [24, 23, 22, 23, 24]\n",
    "\n",
    "# Nula :  No hay ninguna diferencia en el rendimiento promedio entre los tres tipos de fertilizante \n",
    "# Alternativa : Si hay ub rendimiento diferente de maiz entre los tres tipos de fertilizante \n",
    "\n",
    "f_stat, p_value = stats.f_oneway(fertilizante_1, fertilizante_2, fertilizante_3)\n",
    "\n",
    "print(f\"Hay una diferencia considerable del efecto de un tipo de fertilizante en el maíz {f_stat}\")\n",
    "print(f\"Teniendo encuenta el resultado de {p_value} podemos asumir la hipotesis alternativa por lo cual se confirma que hay un fertilizante que tiene un mejor efecto\")\n",
    "\n"
   ]
  },
  {
   "cell_type": "code",
   "execution_count": null,
   "id": "a3925c7f",
   "metadata": {},
   "outputs": [],
   "source": [
    "# Caul fertilizante funciona mejor: "
   ]
  }
 ],
 "metadata": {
  "kernelspec": {
   "display_name": "Python 3",
   "language": "python",
   "name": "python3"
  },
  "language_info": {
   "codemirror_mode": {
    "name": "ipython",
    "version": 3
   },
   "file_extension": ".py",
   "mimetype": "text/x-python",
   "name": "python",
   "nbconvert_exporter": "python",
   "pygments_lexer": "ipython3",
   "version": "3.13.2"
  }
 },
 "nbformat": 4,
 "nbformat_minor": 5
}
